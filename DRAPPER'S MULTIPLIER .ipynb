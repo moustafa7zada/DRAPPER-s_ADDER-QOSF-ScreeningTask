{
 "cells": [
  {
   "cell_type": "code",
   "execution_count": 33,
   "id": "db653762",
   "metadata": {},
   "outputs": [],
   "source": [
    "%run ADDER.ipynb"
   ]
  },
  {
   "cell_type": "code",
   "execution_count": 15,
   "id": "43f0120a",
   "metadata": {},
   "outputs": [],
   "source": [
    "def DRPPERS_MULTIPLIER(first , last ) : \n",
    "    result = first \n",
    "    for i in range(last-1): \n",
    "        result = add(first ,result)\n",
    "    return result     "
   ]
  },
  {
   "cell_type": "code",
   "execution_count": 25,
   "id": "3f76b574",
   "metadata": {},
   "outputs": [
    {
     "name": "stdout",
     "output_type": "stream",
     "text": [
      "Enter the first number: 2\n",
      "Enter the second number:  3\n"
     ]
    }
   ],
   "source": [
    "mutiplier  = int(input(\"Enter the first number: \")) \n",
    "multiplied = int(input(\"Enter the second number:  \"))"
   ]
  },
  {
   "cell_type": "code",
   "execution_count": 34,
   "id": "2b7998ad",
   "metadata": {},
   "outputs": [
    {
     "data": {
      "text/plain": [
       "6"
      ]
     },
     "execution_count": 34,
     "metadata": {},
     "output_type": "execute_result"
    }
   ],
   "source": [
    "DRPPERS_MULTIPLIER(mutiplier ,  multiplied)"
   ]
  },
  {
   "cell_type": "markdown",
   "id": "1c40bc7b",
   "metadata": {},
   "source": [
    "# References : \n",
    "\n",
    "1 - Thomas G. Draper. Addition on a Quantum Computer [[2]](https://arxiv.org/abs/quant-ph/0008033v1)                              \n",
    "2 - Arithmetic on Quantum Computers: Multiplication  [[1]](https://medium.com/@sashwat.anagolum/arithmetic-on-quantum-computers-multiplication-4482cdc2d83b) \n",
    "\n",
    "\n"
   ]
  },
  {
   "cell_type": "code",
   "execution_count": 7,
   "id": "8ed6ce57",
   "metadata": {},
   "outputs": [
    {
     "data": {
      "text/html": [
       "<h3>Version Information</h3><table><tr><th>Qiskit Software</th><th>Version</th></tr><tr><td><code>qiskit-terra</code></td><td>0.21.0</td></tr><tr><td><code>qiskit-aer</code></td><td>0.10.4</td></tr><tr><td><code>qiskit-ibmq-provider</code></td><td>0.19.2</td></tr><tr><td><code>qiskit</code></td><td>0.37.0</td></tr><tr><td><code>qiskit-machine-learning</code></td><td>0.4.0</td></tr><tr><th>System information</th></tr><tr><td>Python version</td><td>3.9.12</td></tr><tr><td>Python compiler</td><td>MSC v.1916 64 bit (AMD64)</td></tr><tr><td>Python build</td><td>main, Apr  4 2022 05:22:27</td></tr><tr><td>OS</td><td>Windows</td></tr><tr><td>CPUs</td><td>8</td></tr><tr><td>Memory (Gb)</td><td>15.747856140136719</td></tr><tr><td colspan='2'>Sun Oct 09 00:48:58 2022 Syria Daylight Time</td></tr></table>"
      ],
      "text/plain": [
       "<IPython.core.display.HTML object>"
      ]
     },
     "metadata": {},
     "output_type": "display_data"
    }
   ],
   "source": [
    "import qiskit.tools.jupyter\n",
    "%qiskit_version_table"
   ]
  }
 ],
 "metadata": {
  "kernelspec": {
   "display_name": "Python 3 (ipykernel)",
   "language": "python",
   "name": "python3"
  },
  "language_info": {
   "codemirror_mode": {
    "name": "ipython",
    "version": 3
   },
   "file_extension": ".py",
   "mimetype": "text/x-python",
   "name": "python",
   "nbconvert_exporter": "python",
   "pygments_lexer": "ipython3",
   "version": "3.9.12"
  }
 },
 "nbformat": 4,
 "nbformat_minor": 5
}
