{
 "cells": [
  {
   "cell_type": "markdown",
   "id": "a4db083b",
   "metadata": {},
   "source": [
    "# DRAPPER'S ADDER"
   ]
  },
  {
   "cell_type": "markdown",
   "id": "b5d03229",
   "metadata": {},
   "source": [
    "### First of all : we have to import all the libraries that we need "
   ]
  },
  {
   "cell_type": "code",
   "execution_count": 98,
   "id": "c6d900fd",
   "metadata": {},
   "outputs": [],
   "source": [
    "import qiskit \n",
    "from qiskit import QuantumCircuit , Aer , execute ,transpile\n",
    "from qiskit.visualization import plot_histogram \n",
    "import matplotlib.pyplot as plt \n",
    "import numpy as np \n",
    "from math import pi \n",
    "from qiskit import Aer"
   ]
  },
  {
   "cell_type": "code",
   "execution_count": 5,
   "id": "be5a4ac5",
   "metadata": {},
   "outputs": [],
   "source": [
    " def get_numbers(f , s): \n",
    "    global second_number  , l1 , l2 , first_number , value_of_sec \n",
    "    first_number , second_number = f , s \n",
    "    if first_number < second_number : #making sure that the first number is the bigger one   \n",
    "        first_number , second_number = second_number , first_number \n",
    "    value_of_sec = second_number\n",
    "    \n",
    "    second_number = bin(second_number)[2:]   #taking the binary value of them \n",
    "    first_number = bin(first_number)[2:]\n",
    "    first_number = '0' + first_number      #since we need n+1 bit , we add an extra 0 bit on the left \n",
    "    l1 = len(first_number)\n",
    "    l2 = len(second_number)\n",
    "    \n",
    "    if(l2 < l1): \n",
    "         second_number = '0'*(l1-l2) + second_number\n",
    "\n",
    "    first_number = first_number[::-1]  #reverse order the binary masks to encode them on our circuit \n",
    "    second_number = second_number[::-1]  \n",
    "    \n",
    "    l1 = len(first_number)\n",
    "    l2 = len(second_number) \n",
    "    \n",
    "def binaryToDecimal(n):\n",
    "    return int(n,2)\n",
    "\n",
    "def encode(qc):  \n",
    "    for i in range(l1):\n",
    "        if first_number[i] == '1' : \n",
    "            qc.x(i)\n",
    "    for e in range(l1 , l2+l1 ): \n",
    "        if second_number[e-l1] ==  '1':\n",
    "            qc.x(e)"
   ]
  },
  {
   "cell_type": "code",
   "execution_count": 70,
   "id": "7b6413ab",
   "metadata": {},
   "outputs": [],
   "source": [
    "def make_my_circuit(n):\n",
    "    global a , b  , c\n",
    "    a = qiskit.QuantumRegister( n  , 'a' )\n",
    "    b = qiskit.QuantumRegister( n , 'b')\n",
    "    c = qiskit.ClassicalRegister(n , 'c')\n",
    "    qc = QuantumCircuit(a ,b  , c) \n",
    "    return qc \n",
    "\n",
    "def make_QFT_gate(n):\n",
    "    a = qiskit.QuantumRegister( n , 'a')\n",
    "    qcc = QuantumCircuit(a) \n",
    "    while n > 0 : \n",
    "        n -= 1\n",
    "        qcc.h(n)\n",
    "        for i in range(n) : \n",
    "            qcc.cp(2*pi/float(2**(n-i+1))  , i  , n)\n",
    "            \n",
    "    #return qcc.draw(output='mpl'\n",
    "    return  qcc.to_gate(label='QFT') "
   ]
  },
  {
   "cell_type": "markdown",
   "id": "d8011080",
   "metadata": {},
   "source": [
    "the function to add our numbers in fourier basis "
   ]
  },
  {
   "cell_type": "code",
   "execution_count": 49,
   "id": "08e45462",
   "metadata": {},
   "outputs": [],
   "source": [
    "def add_me(qc): \n",
    "    n = l2  \n",
    "    p = n -1  \n",
    "    for j in range(l2): \n",
    "        for i in range(n): \n",
    "\n",
    "            qc.cp(pi/float(2**(i)) ,  2*l2-1-i -j  ,  p - j)\n",
    "        n -= 1 "
   ]
  },
  {
   "cell_type": "markdown",
   "id": "d94ddc65",
   "metadata": {},
   "source": [
    "    getting the results from the qasm simulator"
   ]
  },
  {
   "cell_type": "code",
   "execution_count": 8,
   "id": "12e7d305",
   "metadata": {},
   "outputs": [],
   "source": [
    "def gimme_results(qc) : \n",
    "       \n",
    "    sim = Aer.get_backend('qasm_simulator')\n",
    "    result =execute(qc , sim).result()\n",
    "    counts = result.get_counts()\n",
    "    return (binaryToDecimal(counts.most_frequent())) "
   ]
  },
  {
   "cell_type": "code",
   "execution_count": 94,
   "id": "7d87dbbf",
   "metadata": {},
   "outputs": [
    {
     "name": "stdout",
     "output_type": "stream",
     "text": [
      "1010\n"
     ]
    }
   ],
   "source": [
    "def add (f , s): \n",
    "    get_numbers(f, s)\n",
    "    n = l1 \n",
    "    QFT = make_QFT_gate(n) \n",
    "    QFT_inverse = QFT.inverse()\n",
    "    qc = make_my_circuit(n)\n",
    "    encode(qc)\n",
    "\n",
    "    qc.append(QFT , a)\n",
    "    add_me(qc)\n",
    "    qc.append(QFT_inverse , a)\n",
    "    qc.measure(a , c) \n",
    "    return gimme_results(qc)"
   ]
  }
 ],
 "metadata": {
  "kernelspec": {
   "display_name": "Python 3 (ipykernel)",
   "language": "python",
   "name": "python3"
  },
  "language_info": {
   "codemirror_mode": {
    "name": "ipython",
    "version": 3
   },
   "file_extension": ".py",
   "mimetype": "text/x-python",
   "name": "python",
   "nbconvert_exporter": "python",
   "pygments_lexer": "ipython3",
   "version": "3.9.12"
  }
 },
 "nbformat": 4,
 "nbformat_minor": 5
}
